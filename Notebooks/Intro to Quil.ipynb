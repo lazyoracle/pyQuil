{
 "cells": [
  {
   "cell_type": "markdown",
   "metadata": {},
   "source": [
    "# Basic Tutorial on the quil Instruction Set. We build low level quantum programs with quil instructions on classical and quantum registers. "
   ]
  },
  {
   "cell_type": "markdown",
   "metadata": {},
   "source": [
    "This notebook assumes that pyQuil has already been set up in this system."
   ]
  },
  {
   "cell_type": "code",
   "execution_count": 1,
   "metadata": {},
   "outputs": [],
   "source": [
    "%matplotlib inline"
   ]
  },
  {
   "cell_type": "markdown",
   "metadata": {},
   "source": [
    "### Define bra and ket newcommands. Edit below cell to check commands"
   ]
  },
  {
   "cell_type": "markdown",
   "metadata": {},
   "source": [
    "$\\newcommand{\\ket}[1]{\\left|{#1}\\right\\rangle}$"
   ]
  },
  {
   "cell_type": "markdown",
   "metadata": {},
   "source": [
    "$\\newcommand{\\bra}[1]{\\left\\langle{#1}\\right|}$"
   ]
  },
  {
   "cell_type": "markdown",
   "metadata": {},
   "source": [
    "### Testing the Environment"
   ]
  },
  {
   "cell_type": "code",
   "execution_count": 2,
   "metadata": {},
   "outputs": [
    {
     "name": "stdout",
     "output_type": "stream",
     "text": [
      "(0.7071067812+0j)|00> + (0.7071067812+0j)|11>\n"
     ]
    }
   ],
   "source": [
    "from pyquil.quil import Program\n",
    "from pyquil.api import QVMConnection\n",
    "from pyquil.gates import CNOT, H\n",
    "\n",
    "qvm = QVMConnection()\n",
    "p = Program(H(0), CNOT(0, 1))\n",
    "\n",
    "wf = qvm.wavefunction(p)\n",
    "print(wf)"
   ]
  },
  {
   "cell_type": "code",
   "execution_count": 3,
   "metadata": {},
   "outputs": [],
   "source": [
    "def execute(quil_program, trials=100, silent=False, raw=False):\n",
    "    \"\"\"\n",
    "    Thin function that takes a low-level Quil program and returns the\n",
    "    resulting probability distribution.\n",
    "    \"\"\"\n",
    "\n",
    "    qvm = QVMConnection()\n",
    "    results = qvm.run(Program(quil_program), trials=trials)\n",
    "    results = list(map(tuple, results))\n",
    "\n",
    "    if not silent:\n",
    "        observed_results = set(results)\n",
    "        for result in sorted(observed_results):\n",
    "            bitstring = ''.join(reversed(list(map(str, result))))\n",
    "            print(f'|{bitstring}> state: {results.count(result)/len(results)} [{results.count(result)}/{len(results)}]')\n",
    "        if raw:\n",
    "            print(f'Results: {results}')\n",
    "\n",
    "def plot(quil_program):\n",
    "    qvm = QVMConnection()\n",
    "    return qvm.wavefunction(Program(quil_program)).plot()   "
   ]
  },
  {
   "cell_type": "markdown",
   "metadata": {},
   "source": [
    "### Measuring Qubits"
   ]
  },
  {
   "cell_type": "markdown",
   "metadata": {},
   "source": [
    "```\n",
    "MEASURE <qubitNumber> [<ClassicalRegisterNumber>]\n",
    "``` "
   ]
  },
  {
   "cell_type": "code",
   "execution_count": 4,
   "metadata": {},
   "outputs": [
    {
     "name": "stdout",
     "output_type": "stream",
     "text": [
      "|0> state: 1.0 [100/100]\n"
     ]
    }
   ],
   "source": [
    "execute(\"\"\"\n",
    "MEASURE 0 [0]\n",
    "\"\"\")"
   ]
  },
  {
   "cell_type": "markdown",
   "metadata": {},
   "source": [
    "### Applying basic gates"
   ]
  },
  {
   "cell_type": "code",
   "execution_count": 5,
   "metadata": {},
   "outputs": [
    {
     "name": "stdout",
     "output_type": "stream",
     "text": [
      "|11> state: 1.0 [100/100]\n"
     ]
    }
   ],
   "source": [
    "execute(\"\"\"\n",
    "X 0\n",
    "X 1\n",
    "MEASURE 0 [0]\n",
    "MEASURE 1 [1]\n",
    "\"\"\")"
   ]
  },
  {
   "cell_type": "code",
   "execution_count": 6,
   "metadata": {},
   "outputs": [
    {
     "name": "stdout",
     "output_type": "stream",
     "text": [
      "|00> state: 0.24 [24/100]\n",
      "|10> state: 0.19 [19/100]\n",
      "|01> state: 0.26 [26/100]\n",
      "|11> state: 0.31 [31/100]\n"
     ]
    }
   ],
   "source": [
    "execute(\"\"\"\n",
    "H 0\n",
    "H 1\n",
    "MEASURE 0 [0]\n",
    "MEASURE 1 [1]\n",
    "\"\"\")"
   ]
  },
  {
   "cell_type": "code",
   "execution_count": 7,
   "metadata": {},
   "outputs": [
    {
     "name": "stdout",
     "output_type": "stream",
     "text": [
      "|00> state: 0.53 [53/100]\n",
      "|01> state: 0.47 [47/100]\n"
     ]
    }
   ],
   "source": [
    "execute(\"\"\"\n",
    "H 1\n",
    "MEASURE 0 [1]\n",
    "MEASURE 1 [0]\n",
    "\"\"\")"
   ]
  },
  {
   "cell_type": "code",
   "execution_count": 8,
   "metadata": {},
   "outputs": [
    {
     "data": {
      "image/png": "[encoded data removed]",
      "text/plain": [
       "<Figure size 432x288 with 1 Axes>"
      ]
     },
     "metadata": {},
     "output_type": "display_data"
    }
   ],
   "source": [
    "plot(\"\"\"\n",
    "H 1\n",
    "MEASURE 0 [1]\n",
    "MEASURE 1 [0]\n",
    "\"\"\")"
   ]
  },
  {
   "cell_type": "markdown",
   "metadata": {},
   "source": [
    "To ensure that you get a plot showing the expected sample distribution\n",
    "measurement must be deferred. See the plot below"
   ]
  },
  {
   "cell_type": "code",
   "execution_count": 9,
   "metadata": {},
   "outputs": [
    {
     "data": {
      "image/png": "[encoded data removed]",
      "text/plain": [
       "<Figure size 432x288 with 1 Axes>"
      ]
     },
     "metadata": {},
     "output_type": "display_data"
    }
   ],
   "source": [
    "plot(\"\"\"\n",
    "H 1\n",
    "\"\"\")"
   ]
  },
  {
   "cell_type": "markdown",
   "metadata": {},
   "source": [
    "### Quantum Die - 8 sided"
   ]
  },
  {
   "cell_type": "markdown",
   "metadata": {},
   "source": [
    "A fair die has equal probability of turning up in any of the n sides. The quantum equivalent of that is a system that is in an equal superposition of 8 states. For 8 states, we need $log_2(8)=3$ qubits. For this purpose we use the H gate."
   ]
  },
  {
   "cell_type": "code",
   "execution_count": 10,
   "metadata": {},
   "outputs": [
    {
     "name": "stdout",
     "output_type": "stream",
     "text": [
      "|000> state: 0.12599 [12599/100000]\n",
      "|100> state: 0.12553 [12553/100000]\n",
      "|010> state: 0.12559 [12559/100000]\n",
      "|110> state: 0.12242 [12242/100000]\n",
      "|001> state: 0.12497 [12497/100000]\n",
      "|101> state: 0.12598 [12598/100000]\n",
      "|011> state: 0.12359 [12359/100000]\n",
      "|111> state: 0.12593 [12593/100000]\n"
     ]
    }
   ],
   "source": [
    "execute(\"\"\"\n",
    "H 0\n",
    "H 1\n",
    "H 2\n",
    "MEASURE 0 [0]\n",
    "MEASURE 1 [1]\n",
    "MEASURE 2 [2]\n",
    "\"\"\", trials=100000)"
   ]
  },
  {
   "cell_type": "code",
   "execution_count": 11,
   "metadata": {},
   "outputs": [
    {
     "data": {
      "image/png": "[encoded data removed]",
      "text/plain": [
       "<Figure size 432x288 with 1 Axes>"
      ]
     },
     "metadata": {},
     "output_type": "display_data"
    }
   ],
   "source": [
    "plot(\"\"\"\n",
    "H 0\n",
    "H 1\n",
    "H 2\n",
    "\"\"\")"
   ]
  },
  {
   "cell_type": "markdown",
   "metadata": {},
   "source": [
    "### 2-qubit Gates"
   ]
  },
  {
   "cell_type": "markdown",
   "metadata": {},
   "source": [
    "The first 2 qubit gate we deal with is CNOT. The syntax is as follows:\n",
    "```\n",
    "CNOT <control_qubit> <apply_qubit>\n",
    "```"
   ]
  },
  {
   "cell_type": "markdown",
   "metadata": {},
   "source": [
    "Basic circuit that applies NOT to Qubit 1 if the Qubit 0 was originally $\\ket{0}$"
   ]
  },
  {
   "cell_type": "code",
   "execution_count": 12,
   "metadata": {},
   "outputs": [
    {
     "name": "stdout",
     "output_type": "stream",
     "text": [
      "|10> state: 1.0 [100/100]\n"
     ]
    }
   ],
   "source": [
    "execute(\"\"\"\n",
    "X 0\n",
    "CNOT 0 1\n",
    "X 0\n",
    "MEASURE 0 [0]\n",
    "MEASURE 1 [1]\n",
    "\"\"\")"
   ]
  },
  {
   "cell_type": "markdown",
   "metadata": {},
   "source": [
    "### Entanglement"
   ]
  },
  {
   "cell_type": "markdown",
   "metadata": {},
   "source": [
    "Create the state $\\frac{1}{\\sqrt{2}}(\\ket{00}+\\ket{11})$"
   ]
  },
  {
   "cell_type": "code",
   "execution_count": 13,
   "metadata": {},
   "outputs": [
    {
     "name": "stdout",
     "output_type": "stream",
     "text": [
      "|00> state: 0.49784 [49784/100000]\n",
      "|11> state: 0.50216 [50216/100000]\n"
     ]
    }
   ],
   "source": [
    "execute(\"\"\"\n",
    "H 0\n",
    "CNOT 0 1\n",
    "MEASURE 0 [0]\n",
    "MEASURE 1 [1]\n",
    "\"\"\", trials=100000)"
   ]
  },
  {
   "cell_type": "markdown",
   "metadata": {},
   "source": [
    "Create the state $\\frac{1}{\\sqrt{2}}(\\ket{01}+\\ket{10})$"
   ]
  },
  {
   "cell_type": "code",
   "execution_count": 14,
   "metadata": {},
   "outputs": [
    {
     "name": "stdout",
     "output_type": "stream",
     "text": [
      "|10> state: 0.5001 [50010/100000]\n",
      "|01> state: 0.4999 [49990/100000]\n"
     ]
    }
   ],
   "source": [
    "execute(\"\"\"\n",
    "H 0\n",
    "CNOT 0 1\n",
    "X 0\n",
    "MEASURE 0 [0]\n",
    "MEASURE 1 [1]\n",
    "\"\"\", trials=100000)"
   ]
  },
  {
   "cell_type": "code",
   "execution_count": 15,
   "metadata": {},
   "outputs": [
    {
     "data": {
      "image/png": "[encoded data removed]",
      "text/plain": [
       "<Figure size 432x288 with 1 Axes>"
      ]
     },
     "metadata": {},
     "output_type": "display_data"
    }
   ],
   "source": [
    "plot(\"\"\"\n",
    "H 0\n",
    "CNOT 0 1\n",
    "X 0\n",
    "\"\"\")"
   ]
  },
  {
   "cell_type": "markdown",
   "metadata": {},
   "source": [
    "### 7-Sided Die"
   ]
  },
  {
   "cell_type": "markdown",
   "metadata": {},
   "source": [
    "In order to create a 7-sided die, we again need $\\lceil log_2(7)\\rceil=3 $ qubits. We apply $H$ on all three qubits and then measure them. If the state turns out to be $ \\ket{000}$, we discard it, not add it to our output statistics and run the program again. We then end up with an equal probability distribution of $\\ket{abc} $ where $ a,b,c \\in \\{0,1\\}$ and $\\ket{abc}\\neq\\ket{000}$"
   ]
  },
  {
   "cell_type": "code",
   "execution_count": 16,
   "metadata": {},
   "outputs": [
    {
     "name": "stdout",
     "output_type": "stream",
     "text": [
      "|100> state: 0.14335 [14335/100000]\n",
      "|010> state: 0.14252 [14252/100000]\n",
      "|110> state: 0.14139 [14139/100000]\n",
      "|001> state: 0.14193 [14193/100000]\n",
      "|101> state: 0.14335 [14335/100000]\n",
      "|011> state: 0.1445 [14450/100000]\n",
      "|111> state: 0.14296 [14296/100000]\n"
     ]
    }
   ],
   "source": [
    "execute(\"\"\"\n",
    "LABEL @START\n",
    "H 0\n",
    "H 1\n",
    "H 2\n",
    "MEASURE 0 [0]\n",
    "MEASURE 1 [1]\n",
    "MEASURE 2 [2]\n",
    "JUMP-WHEN @FINISH [0]\n",
    "JUMP-WHEN @FINISH [1]\n",
    "JUMP-WHEN @FINISH [2]\n",
    "JUMP @START\n",
    "LABEL @FINISH\n",
    "\"\"\", trials=100000)"
   ]
  },
  {
   "cell_type": "markdown",
   "metadata": {},
   "source": [
    "### Teleportation"
   ]
  },
  {
   "cell_type": "markdown",
   "metadata": {},
   "source": [
    "The circuit below shows the Teleportation protocol. \n",
    "(Image source: Mike & Ike)"
   ]
  },
  {
   "cell_type": "markdown",
   "metadata": {},
   "source": [
    "<img src=\"Teleportation.png\">"
   ]
  },
  {
   "cell_type": "markdown",
   "metadata": {},
   "source": [
    "The first instruction in the code below is for setting the state to teleport.\n",
    "The two instructions below that prepare the entangled qubit pair shared by Alice and Bob."
   ]
  },
  {
   "cell_type": "code",
   "execution_count": 17,
   "metadata": {},
   "outputs": [
    {
     "name": "stdout",
     "output_type": "stream",
     "text": [
      "|000> state: 0.1264 [1264/10000]\n",
      "|100> state: 0.1347 [1347/10000]\n",
      "|010> state: 0.1303 [1303/10000]\n",
      "|110> state: 0.1231 [1231/10000]\n",
      "|001> state: 0.1237 [1237/10000]\n",
      "|101> state: 0.1213 [1213/10000]\n",
      "|011> state: 0.1206 [1206/10000]\n",
      "|111> state: 0.1199 [1199/10000]\n"
     ]
    }
   ],
   "source": [
    "execute(\"\"\"\n",
    "H 0\n",
    "\n",
    "H 1\n",
    "CNOT 1 2\n",
    "CNOT 0 1\n",
    "H 0\n",
    "MEASURE 0 [0]\n",
    "MEASURE 1 [1]\n",
    "JUMP-WHEN @CASE1 [1]\n",
    "LABEL @FORK2\n",
    "JUMP-WHEN @CASE2 [0]\n",
    "JUMP @FINISH\n",
    "LABEL @CASE1\n",
    "X 2\n",
    "JUMP @FORK2\n",
    "LABEL @CASE2\n",
    "Z 2\n",
    "JUMP @FINISH\n",
    "LABEL @FINISH\n",
    "MEASURE 2 [2]\n",
    "\"\"\", trials=10000)"
   ]
  },
  {
   "cell_type": "markdown",
   "metadata": {},
   "source": [
    "## Controlled Gates"
   ]
  },
  {
   "cell_type": "markdown",
   "metadata": {},
   "source": [
    "Given a matrix U, build a single qubit controlled version of U"
   ]
  },
  {
   "cell_type": "code",
   "execution_count": 18,
   "metadata": {},
   "outputs": [],
   "source": [
    "import numpy as np\n",
    "def controlled(m):\n",
    "    \"\"\"\n",
    "    Make a one-qubit-controlled version of a matrix.\n",
    "    :param m: (numpy.ndarray) A matrix.\n",
    "    :return: A controlled version of that matrix.\n",
    "    \"\"\"\n",
    "    rows, cols = m.shape\n",
    "    assert rows == cols\n",
    "    n = rows\n",
    "    I = np.eye(n)\n",
    "    Z = np.zeros((n, n))\n",
    "    controlled_m = np.bmat([[I, Z],\n",
    "                            [Z, m]])\n",
    "    return controlled_m"
   ]
  },
  {
   "cell_type": "markdown",
   "metadata": {},
   "source": [
    "**Example** - Build a CCNOT (Toffoli) given a CNOT"
   ]
  },
  {
   "cell_type": "code",
   "execution_count": 19,
   "metadata": {},
   "outputs": [],
   "source": [
    "U=np.mat('1,0,0,0;0,1,0,0;0,0,0,1;0,0,1,0');\n",
    "gate_matrix=np.array(controlled(U))"
   ]
  },
  {
   "cell_type": "code",
   "execution_count": 20,
   "metadata": {},
   "outputs": [
    {
     "name": "stdout",
     "output_type": "stream",
     "text": [
      "DEFGATE Control-U:\n",
      "    1.0, 0, 0, 0, 0, 0, 0, 0\n",
      "    0, 1.0, 0, 0, 0, 0, 0, 0\n",
      "    0, 0, 1.0, 0, 0, 0, 0, 0\n",
      "    0, 0, 0, 1.0, 0, 0, 0, 0\n",
      "    0, 0, 0, 0, 1.0, 0, 0, 0\n",
      "    0, 0, 0, 0, 0, 1.0, 0, 0\n",
      "    0, 0, 0, 0, 0, 0, 0, 1.0\n",
      "    0, 0, 0, 0, 0, 0, 1.0, 0\n",
      "\n",
      "X 0\n",
      "X 1\n",
      "Control-U 0 1 2\n",
      "MEASURE 2 [2]\n",
      "\n"
     ]
    }
   ],
   "source": [
    "from pyquil.gates import *\n",
    "p=Program().defgate(\"Control-U\", gate_matrix)\n",
    "p.inst(X(0))\n",
    "p.inst(X(1))\n",
    "p.inst((\"Control-U\", 0, 1, 2)).measure(2, 2)\n",
    "print(p)"
   ]
  },
  {
   "cell_type": "markdown",
   "metadata": {},
   "source": [
    "## Any $n>2$ Sided Die"
   ]
  },
  {
   "cell_type": "code",
   "execution_count": 21,
   "metadata": {},
   "outputs": [],
   "source": [
    "import numpy as np\n",
    "from pyquil.quil import Program\n",
    "from pyquil.api import QVMConnection\n",
    "from pyquil.gates import CNOT, H\n",
    "qvm = QVMConnection()\n",
    "\n",
    "\n",
    "def any_die(n):\n",
    "    m=int(np.ceil(np.log(n)/np.log(2)))\n",
    "    die_prog = Program()\n",
    "\n",
    "    while (True):\n",
    "        die_prog.inst(RESET)\n",
    "        for qubit in range(m):\n",
    "            die_prog.inst(H(qubit))\n",
    "        die_prog.measure_all()\n",
    "        results = qvm.run(die_prog, trials=1)\n",
    "        binary_string = ''\n",
    "        for temp in results[0]:\n",
    "            binary_string+=str(temp)\n",
    "        die_result=int(binary_string, 2)\n",
    "        if (die_result>n-1):\n",
    "            continue\n",
    "        else:\n",
    "            return die_result"
   ]
  },
  {
   "cell_type": "code",
   "execution_count": 22,
   "metadata": {},
   "outputs": [
    {
     "data": {
      "application/vnd.jupyter.widget-view+json": {
       "model_id": "1dfe010e2daa41b6ae83ff36c084072b",
       "version_major": 2,
       "version_minor": 0
      },
      "text/plain": [
       "interactive(children=(IntSlider(value=6, description='n', max=10, min=2), Output()), _dom_classes=('widget-int…"
      ]
     },
     "metadata": {},
     "output_type": "display_data"
    }
   ],
   "source": [
    "from __future__ import print_function\n",
    "from ipywidgets import interact, interactive, fixed, interact_manual\n",
    "import ipywidgets as widgets\n",
    "\n",
    "interact(any_die, n=(2,10));"
   ]
  }
 ],
 "metadata": {
  "kernelspec": {
   "display_name": "Python 3",
   "language": "python",
   "name": "python3"
  },
  "language_info": {
   "codemirror_mode": {
    "name": "ipython",
    "version": 3
   },
   "file_extension": ".py",
   "mimetype": "text/x-python",
   "name": "python",
   "nbconvert_exporter": "python",
   "pygments_lexer": "ipython3",
   "version": "3.6.5"
  }
 },
 "nbformat": 4,
 "nbformat_minor": 2
}
