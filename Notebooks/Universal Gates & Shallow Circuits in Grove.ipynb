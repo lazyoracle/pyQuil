{
 "cells": [
  {
   "cell_type": "markdown",
   "metadata": {},
   "source": [
    "## Universal Gates"
   ]
  },
  {
   "cell_type": "markdown",
   "metadata": {},
   "source": [
    "We learn about using **Universal Quantum Gates** and decomposing Quantum Circuits using **Gate Identities**. We also **prepare arbitrary Quantum States** and use **Grove** for shallow circuits."
   ]
  },
  {
   "cell_type": "markdown",
   "metadata": {},
   "source": [
    "$\\newcommand{\\ket}[1]{\\left|{#1}\\right\\rangle}$\n",
    "$\\newcommand{\\bra}[1]{\\left\\langle{#1}\\right|}$"
   ]
  },
  {
   "cell_type": "markdown",
   "metadata": {},
   "source": [
    "Rigetti physically implements only three 2-qubit Gates \n",
    "$RZ(\\theta)$, $RX(\\frac{k\\pi}{2})$, and a controlled $Z$ ($CZ$) defined as below:    "
   ]
  },
  {
   "cell_type": "markdown",
   "metadata": {},
   "source": [
    "$$\\newcommand{\\ket}[1]{\\left|{#1}\\right\\rangle}\n",
    "\\newcommand{\\bra}[1]{\\left\\langle{#1}\\right|}$$\n",
    "$$R_Z(\\theta) = \\begin{bmatrix}\n",
    "    e^{-i\\frac{\\theta}{2}} & 0 \\\\\n",
    "    0 & e^{i\\frac{\\theta}{2}}\n",
    "    \\end{bmatrix}$$\n",
    "    \n",
    "$$R_X(\\frac{k\\pi}{2}) = \\begin{bmatrix}\n",
    "    \\cos\\frac{k\\pi}{4} & -i\\sin\\frac{k\\pi}{4} \\\\\n",
    "    -i\\sin\\frac{k\\pi}{4} & \\cos\\frac{k\\pi}{4}\n",
    "    \\end{bmatrix}$$\n",
    "    \n",
    "$$CZ = \\begin{bmatrix}\n",
    "    1 & 0 & 0 & 0 \\\\\n",
    "    0 & 1 & 0 & 0 \\\\\n",
    "    0 & 0 & 1 & 0 \\\\\n",
    "    0 & 0 & 0 & -1 \\\\\n",
    "    \\end{bmatrix}$$"
   ]
  },
  {
   "cell_type": "markdown",
   "metadata": {},
   "source": [
    "Note: Rigetti's set of three quantum gates is universal. **Hence, any quantum circuit can be constructed from this universal set of quantum gates!**"
   ]
  },
  {
   "cell_type": "markdown",
   "metadata": {},
   "source": [
    "### Pauli Gate Matrices"
   ]
  },
  {
   "cell_type": "code",
   "execution_count": 1,
   "metadata": {},
   "outputs": [
    {
     "name": "stdout",
     "output_type": "stream",
     "text": [
      "Identity gate matrix: \n",
      " [[1 0]\n",
      " [0 1]] \n",
      "\n",
      "Pauli X gate matrix: \n",
      " [[0 1]\n",
      " [1 0]] \n",
      "\n",
      "Pauli Y gate matrix: \n",
      " [[ 0.+0.j -0.-1.j]\n",
      " [ 0.+1.j  0.+0.j]] \n",
      "\n",
      "Pauli Z gate matrix: \n",
      " [[ 1  0]\n",
      " [ 0 -1]] \n",
      "\n",
      "Hadamard gate matrix: \n",
      " [[ 0.707  0.707]\n",
      " [ 0.707 -0.707]] \n",
      "\n"
     ]
    }
   ],
   "source": [
    "import numpy as np\n",
    "\n",
    "pauli_I = np.matrix([[1, 0],[0, 1]])\n",
    "print(f'Identity gate matrix: \\n {pauli_I} \\n')\n",
    "pauli_X = np.matrix([[0, 1],[1, 0]])\n",
    "print(f'Pauli X gate matrix: \\n {pauli_X} \\n')\n",
    "pauli_Y = np.matrix([[0, -1j],[1j, 0]])\n",
    "print(f'Pauli Y gate matrix: \\n {pauli_Y} \\n')\n",
    "pauli_Z = np.matrix([[1, 0],[0, -1]])\n",
    "print(f'Pauli Z gate matrix: \\n {pauli_Z} \\n')\n",
    "hadamard = np.matrix([[0.707, 0.707],[0.707, -0.707]])\n",
    "print(f'Hadamard gate matrix: \\n {hadamard} \\n')"
   ]
  },
  {
   "cell_type": "markdown",
   "metadata": {},
   "source": [
    "### Gate Decomposition"
   ]
  },
  {
   "cell_type": "markdown",
   "metadata": {},
   "source": [
    "Use the definitions of Rigetti's $RZ(\\theta)$ and $RX(\\frac{k\\pi}{2})$ gates above to find a combination (product) of gates that implements the Hadamard (H) on Rigetti's QPU! As a recap here is the matrix representation of the Hadamard gate:\n",
    "$$H = \\frac{1}{\\sqrt{2}} \\begin{bmatrix}\n",
    "    1 & 1 \\\\\n",
    "    1 & -1\n",
    "    \\end{bmatrix}  \\approx  \\begin{bmatrix}\n",
    "    0.707 & 0.707 \\\\\n",
    "    0.707 & -0.707\n",
    "    \\end{bmatrix}$$\n",
    "\n",
    "<a title=\"Try multiplying the resulting matrix with the imaginary number i (remember that global phase doesn't matter) in order to get the correct result.\">Hint.</a>"
   ]
  },
  {
   "cell_type": "code",
   "execution_count": 2,
   "metadata": {},
   "outputs": [
    {
     "name": "stdout",
     "output_type": "stream",
     "text": [
      "The chosen values are theta=1.5707963267948966 and k=1\n",
      "\n",
      "The sequence of gates yields the matrix: \n",
      " \n",
      " [[ 0.70710678+1.11022302e-16j  0.70710678+0.00000000e+00j]\n",
      " [ 0.70710678+0.00000000e+00j -0.70710678+1.11022302e-16j]] \n",
      "\n",
      "Subtracting this sequence of gates from the Hadamard yields: \n",
      " \n",
      " [[ 0.+0.j  0.+0.j]\n",
      " [ 0.+0.j -0.+0.j]]\n"
     ]
    }
   ],
   "source": [
    "import cmath\n",
    "\n",
    "# manual definition of Rigetti's parametrized RZ gate. no need to modify.\n",
    "rz = lambda theta: np.matrix([[cmath.exp(-1j*theta/2), 0],[0, cmath.exp(1j*theta/2)]])\n",
    "\n",
    "# manual definition of Rigetti's parametrized RX gate. no need to modify.\n",
    "rx = lambda phi: np.matrix([[cmath.cos(phi/2), -1j*cmath.sin(phi/2)],[-1j*cmath.sin(phi/2), cmath.cos(phi/2)]])\n",
    "\n",
    "# TODO: play with these two values (theta and k)\n",
    "theta = cmath.pi/2\n",
    "k = 1 # must be an integer\n",
    "\n",
    "# the angle for the RX gate is fixed to integer multiple of pi/2\n",
    "phi = k*cmath.pi/2\n",
    "\n",
    "# TODO: make different products (use 2, 3 or 4 gates)\n",
    "gate_product = rz(theta)*rx(phi)*rz(theta)*1j\n",
    "print(f'The chosen values are theta={theta} and k={k}\\n')\n",
    "print(f'The sequence of gates yields the matrix: \\n \\n {gate_product} \\n')\n",
    "print(f'Subtracting this sequence of gates from the Hadamard yields: \\n \\n {np.round(gate_product-hadamard)}')"
   ]
  },
  {
   "cell_type": "markdown",
   "metadata": {},
   "source": [
    "**Circuit Equivalence** - This paper by [Garcia-Escartin and Chamorro-Posada](https://arxiv.org/pdf/1110.2998.pdf) is a great resource to understand the equivalence of a lot of different circuits. <br> **CNOT** can be decomposed into the below operations as shown in the following code using pyQuil library gates:<br>\n",
    "$H(1)\\rightarrow CZ(0,1)\\rightarrow H(1)$"
   ]
  },
  {
   "cell_type": "code",
   "execution_count": 3,
   "metadata": {},
   "outputs": [
    {
     "name": "stdout",
     "output_type": "stream",
     "text": [
      "With control qubit OFF the resulting wavefunction is: (-0.7071067812+0j)|00> + (-0.7071067812+0j)|10>\n"
     ]
    },
    {
     "data": {
      "image/png": "[encoded data removed]",
      "text/plain": [
       "<Figure size 432x288 with 1 Axes>"
      ]
     },
     "metadata": {},
     "output_type": "display_data"
    },
    {
     "name": "stdout",
     "output_type": "stream",
     "text": [
      "With control qubit ON the resulting wavefunction is: (-0.7071067812+0j)|01> + (-0.7071067812+0j)|11>\n"
     ]
    },
    {
     "data": {
      "image/png": "[encoded data removed]",
      "text/plain": [
       "<Figure size 432x288 with 1 Axes>"
      ]
     },
     "metadata": {},
     "output_type": "display_data"
    }
   ],
   "source": [
    "# from pyquil.api import CompilerConnection, get_devices\n",
    "from pyquil.quil import Program\n",
    "from pyquil.gates import *\n",
    "from pyquil.api import QVMConnection\n",
    "%matplotlib inline\n",
    "\n",
    "# leaving the control qubit OFF (0)\n",
    "p = Program()\n",
    "p.inst(H(1))\n",
    "\n",
    "# TODO: create a circuit with RX, RZ and CZ that equals a single CNOT gate\n",
    "p.inst(RZ(theta, 1), RX(phi, 1), RZ(theta, 1), CZ(0,1), RZ(theta, 1), RX(phi, 1), RZ(theta, 1))\n",
    "\n",
    "# establish connection to QVM and get wavefunction\n",
    "qvm = QVMConnection()\n",
    "wavefunction = qvm.wavefunction(p)\n",
    "print(f'With control qubit OFF the resulting wavefunction is: {wavefunction}')\n",
    "wavefunction.plot()\n",
    "\n",
    "\n",
    "# turning the control qubit ON (1)\n",
    "p = Program().inst(H(1), X(0))\n",
    "\n",
    "# TODO: create a circuit with RX, RZ and CZ that equals a single CNOT gate\n",
    "p.inst(RZ(theta, 1), RX(phi, 1), RZ(theta, 1), CZ(0,1), RZ(theta, 1), RX(phi, 1), RZ(theta, 1))\n",
    "\n",
    "# establish connection to QVM and get wavefunction\n",
    "qvm = QVMConnection()\n",
    "wavefunction = qvm.wavefunction(p)\n",
    "print(f'With control qubit ON the resulting wavefunction is: {wavefunction}')\n",
    "wavefunction.plot()"
   ]
  },
  {
   "cell_type": "markdown",
   "metadata": {},
   "source": [
    "### Toffoli Decomposition"
   ]
  },
  {
   "cell_type": "code",
   "execution_count": 4,
   "metadata": {},
   "outputs": [],
   "source": [
    "from __future__ import print_function\n",
    "from ipywidgets import interact, interactive, fixed, interact_manual\n",
    "import ipywidgets as widgets"
   ]
  },
  {
   "cell_type": "code",
   "execution_count": 5,
   "metadata": {},
   "outputs": [],
   "source": [
    "from pyquil.gates import CCNOT\n",
    "from pyquil.gates import H, T, X, CNOT\n",
    "%matplotlib inline\n",
    "\n",
    "#for initial_state in initial_states:\n",
    "def Toffoli_Decomposition(x):\n",
    "    initial_states = [Program().inst(X(0)), Program().inst(X(1)), Program().inst(X(2)), Program().inst(X(0), X(1)), Program().inst(X(0), X(1), X(2))]\n",
    "    initial_state = initial_states[x]\n",
    "    # single Toffoli\n",
    "    original_toffoli = Program().inst(CCNOT(0,1,2))\n",
    "    print(f\"Original Toffoli result:\")\n",
    "    qvm.wavefunction(initial_state + original_toffoli).plot()\n",
    "    \n",
    "    # decomposed Toffoli\n",
    "    t_dagger = np.array([[1, 0], [ 0, cmath.exp(-1j*cmath.pi/4)]])\n",
    "    decomposed_toffoli = Program().defgate(\"T_dagger\", t_dagger) # register T_dagger\n",
    "    decomposed_toffoli.inst(H(2), CNOT(1,2), (\"T_dagger\", 2), CNOT(0,2), T(2))\n",
    "    decomposed_toffoli.inst(CNOT(1,2), (\"T_dagger\", 2), CNOT(0,2), T(1), T(2), H(2))\n",
    "    decomposed_toffoli.inst(CNOT(0,1), T(0), (\"T_dagger\", 1), CNOT(0,1))\n",
    "    print(f\"Decomposed Toffoli result:\")\n",
    "    qvm.wavefunction(initial_state + decomposed_toffoli).plot()"
   ]
  },
  {
   "cell_type": "code",
   "execution_count": 6,
   "metadata": {},
   "outputs": [
    {
     "data": {
      "application/vnd.jupyter.widget-view+json": {
       "model_id": "1016852252c04a16bbf13cfacb50361b",
       "version_major": 2,
       "version_minor": 0
      },
      "text/plain": [
       "interactive(children=(IntSlider(value=1, description='x', max=3), Output()), _dom_classes=('widget-interact',)…"
      ]
     },
     "metadata": {},
     "output_type": "display_data"
    }
   ],
   "source": [
    "interact(Toffoli_Decomposition, x=(0,3));"
   ]
  },
  {
   "cell_type": "markdown",
   "metadata": {},
   "source": [
    "## Quantum State Preparation"
   ]
  },
  {
   "cell_type": "markdown",
   "metadata": {},
   "source": [
    "The goal of quantum state preparation is the ability to generate quantum states with arbitrary amplitude distributions. Formally speaking, given a complex non-zero amplitude vector $\\mathbf{a} \\in \\mathbb{C}^N$ with components $a_i$ find an algorithm that takes the initial state $\\ket{0}^{\\otimes \\log_2 N}$ and outputs the following state:\n",
    "$$\\ket{\\Psi} = \\sum^{N-1}_{i=0} \\frac{a_i}{\\mid \\mathbf{a} \\mid} \\ket{i}$$\n",
    "where $\\ket{i}$ stands for $i$ in its binary representation."
   ]
  },
  {
   "cell_type": "markdown",
   "metadata": {},
   "source": [
    "**Example**: Prepare the following quantum state:\n",
    "\n",
    "$$ \\ket{\\Psi} = \\frac{-i}{2} \\, \\ket{00} - \\frac{i}{2} \\, \\ket{01} + \\frac{i}{2} \\, \\ket{10} + \\frac{i}{2} \\,\\ket{11} $$\n"
   ]
  },
  {
   "cell_type": "code",
   "execution_count": 7,
   "metadata": {},
   "outputs": [
    {
     "name": "stdout",
     "output_type": "stream",
     "text": [
      "-0.5j|00> + -0.5j|01> + 0.5j|10> + 0.5j|11>\n"
     ]
    }
   ],
   "source": [
    "from pyquil.api import QVMConnection\n",
    "from pyquil.gates import CNOT, H, Z, Y\n",
    "from pyquil.quil import Program\n",
    "\n",
    "qvm = QVMConnection()\n",
    "p = Program()\n",
    "\n",
    "# TODO: initialize the quantum state with quantum gates\n",
    "p.inst(H(0), H(1), Y(1))\n",
    "\n",
    "print(qvm.wavefunction(p))\n",
    "#qvm.wavefunction(p).plot()"
   ]
  },
  {
   "cell_type": "markdown",
   "metadata": {},
   "source": [
    "**Example**: Built a quantum circuit with a conditional measurement to construct the following quantum state:\n",
    "\n",
    "$$ \\ket{\\Psi} = -\\frac{1}{2} \\,|001> -  \\, \\frac{1}{2} \\,|011> + \\, \\frac{1}{2} \\,|101> + \\, \\frac{1}{2} \\,|111> $$\n",
    "\n",
    "<a title=\"Look at the if_then() function to access the shared memory in order to perform a conditional measurement.\">Hint.</a>"
   ]
  },
  {
   "cell_type": "code",
   "execution_count": 8,
   "metadata": {},
   "outputs": [
    {
     "name": "stdout",
     "output_type": "stream",
     "text": [
      "(-0.5+0j)|001> + (-0.5+0j)|011> + (-0.5+0j)|101> + (-0.5+0j)|111>\n"
     ]
    },
    {
     "data": {
      "image/png": "[encoded data removed]",
      "text/plain": [
       "<Figure size 432x288 with 1 Axes>"
      ]
     },
     "metadata": {},
     "output_type": "display_data"
    }
   ],
   "source": [
    "from pyquil.api import QVMConnection\n",
    "from pyquil.gates import CNOT, H, Z, CCNOT, X, CZ, I\n",
    "from pyquil.quil import Program\n",
    "\n",
    "qvm = QVMConnection()\n",
    "p = Program()\n",
    "\n",
    "# TODO: initialize the quantum state with quantum gates\n",
    "then_branch = Program()\n",
    "else_branch = Program(X(0))\n",
    "\n",
    "p.inst(H(0), H(1), H(2)).inst(CZ(0,2)).inst(X(0)).measure(0,0)\n",
    "p.if_then(0, then_branch, else_branch).inst(Z(0),Z(2))\n",
    "\n",
    "print(qvm.wavefunction(p))\n",
    "qvm.wavefunction(p).plot()"
   ]
  },
  {
   "cell_type": "markdown",
   "metadata": {},
   "source": [
    "### Generating LaTex code for circuits from the pyQuil Program"
   ]
  },
  {
   "cell_type": "code",
   "execution_count": 9,
   "metadata": {},
   "outputs": [],
   "source": [
    "from pyquil.latex.latex_generation import to_latex"
   ]
  },
  {
   "cell_type": "code",
   "execution_count": 10,
   "metadata": {},
   "outputs": [],
   "source": [
    "#latex_circuit=to_latex(p)"
   ]
  },
  {
   "cell_type": "markdown",
   "metadata": {},
   "source": [
    "**NOTE**: The string above has a compilable LaTex source code. However, this is not foolproof yet. For Gate count more than 5, it doesn't compile. Similarly, there is nothing to compile Classical Control Flow into circuit diagrams"
   ]
  },
  {
   "cell_type": "markdown",
   "metadata": {},
   "source": [
    "## Grove library of Quantum Algorithms"
   ]
  },
  {
   "cell_type": "markdown",
   "metadata": {},
   "source": [
    "Assumes grove has been cloned and installed"
   ]
  },
  {
   "cell_type": "code",
   "execution_count": 11,
   "metadata": {},
   "outputs": [
    {
     "name": "stdout",
     "output_type": "stream",
     "text": [
      "Generated wavefunction for state 1: \n",
      "-0.5j|00> + -0.5j|01> + 0.5j|10> + 0.5j|11> \n",
      "\n",
      "Quantum circuit used to generate the state: \n",
      "RZ(0) 0\n",
      "PHASE(0) 0\n",
      "H 0\n",
      "H 1\n",
      "RZ(pi) 0\n",
      "SWAP 0 1\n",
      "CNOT 1 0\n",
      "CNOT 1 0\n",
      "CNOT 1 0\n",
      "CNOT 1 0\n",
      "\n",
      "Generated wavefunction for state 2: \n",
      "(-0.5+0j)|001> + (-0.5+0j)|011> + (0.5+0j)|101> + (0.5+0j)|111> \n",
      "\n",
      "Quantum circuit used to generate the state: \n",
      "RZ(-pi/2) 0\n",
      "PHASE(pi/2) 0\n",
      "H 0\n",
      "H 1\n",
      "H 2\n",
      "RZ(-pi/2) 0\n",
      "SWAP 0 2\n",
      "CNOT 2 0\n",
      "CNOT 2 0\n",
      "CNOT 2 0\n",
      "CNOT 2 0\n",
      "SWAP 0 1\n",
      "CNOT 2 0\n",
      "CNOT 1 0\n",
      "CNOT 2 0\n",
      "CNOT 1 0\n",
      "RY(1.5707963267948963) 0\n",
      "CNOT 2 0\n",
      "RZ(pi/2) 0\n",
      "CNOT 1 0\n",
      "CNOT 2 0\n",
      "CNOT 1 0\n",
      "RZ(pi/2) 0\n",
      "\n"
     ]
    }
   ],
   "source": [
    "# TODO: Use Grove to generate the two arbitrary states as above\n",
    "from grove.alpha.arbitrary_state.arbitrary_state import create_arbitrary_state\n",
    "\n",
    "# generating circuit for quantum state 1\n",
    "amplitude_vector = [-1j/2, -1j/2, 1j/2, 1j/2]\n",
    "p = create_arbitrary_state(amplitude_vector)\n",
    "print(f'Generated wavefunction for state 1: \\n{qvm.wavefunction(p)} \\n')\n",
    "print(f'Quantum circuit used to generate the state: \\n{p}')\n",
    "\n",
    "\n",
    "# generating circuit for quantum state 2\n",
    "amplitude_vector = [0, -1/2, 0, -1/2, 0, 1/2, 0, 1/2]\n",
    "p = create_arbitrary_state(amplitude_vector)\n",
    "print(f'Generated wavefunction for state 2: \\n{qvm.wavefunction(p)} \\n')\n",
    "print(f'Quantum circuit used to generate the state: \\n{p}')"
   ]
  },
  {
   "cell_type": "markdown",
   "metadata": {},
   "source": [
    "## Quantum Simulations"
   ]
  },
  {
   "cell_type": "markdown",
   "metadata": {},
   "source": [
    "### Errors in Quantum Circuits"
   ]
  },
  {
   "cell_type": "markdown",
   "metadata": {},
   "source": [
    "**Example** - **Phase Flip Errors**<br>\n",
    "Phase flip errors propagate upwards through CNOT gates. Verify this statement by implementing a short circuit that:\n",
    "\n",
    "- initializes an equal superposition over all 2-qubit strings,\n",
    "- applies a phase (Z) gate to one of the qubits,\n",
    "- applies a CNOT gate to the two qubits,\n",
    "- observe how the phase flip propagates."
   ]
  },
  {
   "cell_type": "code",
   "execution_count": 12,
   "metadata": {},
   "outputs": [
    {
     "name": "stdout",
     "output_type": "stream",
     "text": [
      "Acting Z on qubit 0 yields: \n",
      "(0.5+0j)|00> + (-0.5+0j)|01> + (0.5+0j)|10> + (-0.5+0j)|11>\n",
      "\n",
      "\n",
      "Acting Z on qubit 1 yields: \n",
      "(0.5+0j)|00> + (-0.5+0j)|01> + (-0.5+0j)|10> + (0.5+0j)|11>\n",
      "\n",
      "\n"
     ]
    }
   ],
   "source": [
    "from pyquil.api import QVMConnection\n",
    "from pyquil.gates import CNOT, H, Z\n",
    "from pyquil.quil import Program\n",
    "\n",
    "qvm = QVMConnection()\n",
    "\n",
    "for i in range(2):\n",
    "    p = Program()\n",
    "    p.inst(H(0), H(1))\n",
    "    p.inst(Z(i))\n",
    "    p.inst(CNOT(0,1))\n",
    "    \n",
    "    print(f'Acting Z on qubit {i} yields: \\n{qvm.wavefunction(p)}\\n\\n')"
   ]
  },
  {
   "cell_type": "markdown",
   "metadata": {},
   "source": [
    "The resulting quantum states are **product states** and can be separated into two components:\n",
    "\n",
    "In the case of where we apply $Z$ to qubit 0 we get:\n",
    "\n",
    "$$\\frac{1}{2}\\,\\ket{00} - \\frac{1}{2}\\,\\ket{01} + \\frac{1}{2}\\,\\ket{10} - \\frac{1}{2}\\,\\ket{11} = \\frac{1}{\\sqrt{2}} (\\ket{0} + \\ket{1}) \\otimes \\frac{1}{\\sqrt{2}} (\\ket{0} - \\ket{1})$$\n",
    "\n",
    "From this it becomes evident that the phase shift of $-1$ was only applied to qubit 0 (the latter - remember the reverse qubit ordering!).\n",
    "\n",
    "However, in the case of where we apply $Z$ to qubit 1 we get:\n",
    "\n",
    "$$\\frac{1}{2}\\,\\ket{00} - \\frac{1}{2}\\,\\ket{01} - \\frac{1}{2}\\,\\ket{10} + \\frac{1}{2}\\,\\ket{11} = \\frac{1}{\\sqrt{2}} (\\ket{0} - \\ket{1}) \\otimes \\frac{1}{\\sqrt{2}} (\\ket{0} - \\ket{1})$$\n",
    "\n",
    "which clearly shows that the phase shift was applied to both qubits! Hence, the phase shift ($Z$) error propagated upwards through the CNOT gate!"
   ]
  },
  {
   "cell_type": "markdown",
   "metadata": {},
   "source": [
    "### Simulating Many-Body Interactions"
   ]
  },
  {
   "cell_type": "markdown",
   "metadata": {},
   "source": [
    "We can exploit the fact that phase flip errors propagate upwards to simulate local Hamiltonians with many-body interactions such as:\n",
    "\n",
    "$$ H = \\pi \\big( Z_0 \\otimes Z_1 \\otimes Z_2 \\big) $$"
   ]
  },
  {
   "cell_type": "code",
   "execution_count": 13,
   "metadata": {},
   "outputs": [
    {
     "name": "stdout",
     "output_type": "stream",
     "text": [
      "-1j|000>\n"
     ]
    }
   ],
   "source": [
    "# TODO: simulate the Hamiltonian above\n",
    "from pyquil.gates import CNOT, RZ\n",
    "\n",
    "p = Program([CNOT(0,2), CNOT(1,2), RZ(cmath.pi, 2) ,CNOT(1,2), CNOT(0,2)])\n",
    "\n",
    "print(qvm.wavefunction(p))"
   ]
  },
  {
   "cell_type": "markdown",
   "metadata": {},
   "source": [
    "## Quantum Fourier Transform"
   ]
  },
  {
   "cell_type": "markdown",
   "metadata": {},
   "source": [
    "We write a program to compute the 3-qubit QFT. The circuit consists of H gates and CPHASE gates followed by a SWAP."
   ]
  },
  {
   "cell_type": "markdown",
   "metadata": {},
   "source": [
    "<img src=3QubitQFT.png>"
   ]
  },
  {
   "cell_type": "code",
   "execution_count": 14,
   "metadata": {},
   "outputs": [
    {
     "name": "stdout",
     "output_type": "stream",
     "text": [
      "[ 3.53553391e-01+0.j          2.50000000e-01+0.25j\n",
      "  2.16489014e-17+0.35355339j -2.50000000e-01+0.25j\n",
      " -3.53553391e-01+0.j         -2.50000000e-01-0.25j\n",
      " -2.16489014e-17-0.35355339j  2.50000000e-01-0.25j      ]\n"
     ]
    }
   ],
   "source": [
    "from math import pi\n",
    "from pyquil.quil import Program\n",
    "from pyquil.gates import *\n",
    "from pyquil.api import QVMConnection\n",
    "\n",
    "\n",
    "qvm=QVMConnection()\n",
    "\n",
    "#qft3 creates Quil code to perform a 3-qubit QFT\n",
    "def qft3(q0, q1, q2):\n",
    "    p = Program()\n",
    "    p.inst( H(q2),\n",
    "            CPHASE(pi/2.0, q1, q2),\n",
    "            H(q1),\n",
    "            CPHASE(pi/4.0, q0, q2),\n",
    "            CPHASE(pi/2.0, q0, q1),\n",
    "            H(q0),\n",
    "            SWAP(q0, q2) )\n",
    "    return p\n",
    "\n",
    "#state-preparation\n",
    "state_prep = Program().inst(X(0))\n",
    "add_dummy_qubits = Program().inst(I(1), I(2))\n",
    "wavefunction = qvm.wavefunction(state_prep + add_dummy_qubits)\n",
    "#print(wavefunction)\n",
    "\n",
    "#invoke QFT3\n",
    "wavefunction = qvm.wavefunction(state_prep + qft3(0, 1, 2))\n",
    "print(wavefunction.amplitudes)\n",
    "#wavefunction.plot()"
   ]
  },
  {
   "cell_type": "markdown",
   "metadata": {},
   "source": [
    "Cross-check with classical Inverse FFT"
   ]
  },
  {
   "cell_type": "code",
   "execution_count": 15,
   "metadata": {},
   "outputs": [
    {
     "name": "stdout",
     "output_type": "stream",
     "text": [
      "[ 0.35355339+0.j          0.25      +0.25j        0.        +0.35355339j\n",
      " -0.25      +0.25j       -0.35355339+0.j         -0.25      -0.25j\n",
      "  0.        -0.35355339j  0.25      -0.25j      ]\n"
     ]
    }
   ],
   "source": [
    "from numpy.fft import ifft\n",
    "print(ifft([0,1,0,0,0,0,0,0], norm=\"ortho\"))"
   ]
  },
  {
   "cell_type": "markdown",
   "metadata": {},
   "source": [
    "### QFT from Grove library of Algorithms"
   ]
  },
  {
   "cell_type": "code",
   "execution_count": 16,
   "metadata": {},
   "outputs": [],
   "source": [
    "import grove"
   ]
  },
  {
   "cell_type": "code",
   "execution_count": 17,
   "metadata": {},
   "outputs": [],
   "source": [
    "from grove.qft.fourier import bit_reversal, inverse_qft, qft"
   ]
  },
  {
   "cell_type": "code",
   "execution_count": 18,
   "metadata": {},
   "outputs": [],
   "source": [
    "def execute(quil_program, trials=100, silent=False, raw=False):\n",
    "    \"\"\"\n",
    "    Thin function that takes a low-level Quil program and returns the\n",
    "    resulting probability distribution.\n",
    "    \"\"\"\n",
    "\n",
    "    qvm = QVMConnection()\n",
    "    results = qvm.run(Program(quil_program), trials=trials)\n",
    "    results = list(map(tuple, results))\n",
    "\n",
    "    if not silent:\n",
    "        observed_results = set(results)\n",
    "        for result in sorted(observed_results):\n",
    "            bitstring = ''.join(reversed(list(map(str, result))))\n",
    "            print(f'|{bitstring}> state: {results.count(result)/len(results)} [{results.count(result)}/{len(results)}]')\n",
    "        if raw:\n",
    "            print(f'Results: {results}')\n",
    "\n",
    "def plot(quil_program):\n",
    "    qvm = QVMConnection()\n",
    "    return qvm.wavefunction(Program(quil_program)).plot()   "
   ]
  },
  {
   "cell_type": "code",
   "execution_count": 19,
   "metadata": {},
   "outputs": [],
   "source": [
    "prog_qft =  qft([0, 1, 2])"
   ]
  },
  {
   "cell_type": "code",
   "execution_count": 20,
   "metadata": {},
   "outputs": [
    {
     "data": {
      "image/png": "[encoded data removed]",
      "text/plain": [
       "<Figure size 432x288 with 1 Axes>"
      ]
     },
     "metadata": {},
     "output_type": "display_data"
    }
   ],
   "source": [
    "plot(prog_qft)"
   ]
  },
  {
   "cell_type": "code",
   "execution_count": 21,
   "metadata": {},
   "outputs": [
    {
     "name": "stdout",
     "output_type": "stream",
     "text": [
      "H 2\n",
      "CPHASE(pi/2) 1 2\n",
      "H 1\n",
      "CPHASE(pi/4) 0 2\n",
      "CPHASE(pi/2) 0 1\n",
      "H 0\n",
      "SWAP 0 2\n",
      "\n"
     ]
    }
   ],
   "source": [
    "print(prog_qft)"
   ]
  }
 ],
 "metadata": {
  "kernelspec": {
   "display_name": "Python 3",
   "language": "python",
   "name": "python3"
  },
  "language_info": {
   "codemirror_mode": {
    "name": "ipython",
    "version": 3
   },
   "file_extension": ".py",
   "mimetype": "text/x-python",
   "name": "python",
   "nbconvert_exporter": "python",
   "pygments_lexer": "ipython3",
   "version": "3.6.5"
  }
 },
 "nbformat": 4,
 "nbformat_minor": 2
}
